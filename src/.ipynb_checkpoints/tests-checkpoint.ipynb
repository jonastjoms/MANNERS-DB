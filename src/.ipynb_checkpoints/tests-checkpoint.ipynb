{
 "cells": [
  {
   "cell_type": "code",
   "execution_count": 1,
   "metadata": {},
   "outputs": [],
   "source": [
    "import sys,os,argparse,time\n",
    "import numpy as np\n",
    "import torch\n",
    "import utils\n",
    "from datetime import datetime\n",
    "from torchvision.utils import make_grid\n",
    "import matplotlib.pyplot as plt\n",
    "from torchvision import datasets, transforms\n",
    "\n",
    "%matplotlib inline\n",
    "import math\n",
    "import matplotlib.pyplot as plt\n",
    "import numpy as np\n",
    "import seaborn as sns\n",
    "import torch\n",
    "import torch.nn as nn\n",
    "import torch.nn.functional as F\n",
    "import torch.optim as optim\n",
    "\n",
    "from tensorboardX import SummaryWriter\n",
    "from torchvision import datasets, transforms\n",
    "from torchvision.utils import make_grid\n",
    "from tqdm import tqdm, trange\n",
    "\n",
    "writer = SummaryWriter()\n",
    "sns.set()\n",
    "sns.set_style(\"dark\")\n",
    "sns.set_palette(\"muted\")\n",
    "sns.set_color_codes(\"muted\")\n",
    "from scipy.stats import entropy\n",
    "import torch.nn.functional as F"
   ]
  },
  {
   "cell_type": "code",
   "execution_count": 61,
   "metadata": {
    "scrolled": true
   },
   "outputs": [],
   "source": [
    "# Arguments\n",
    "parser=argparse.ArgumentParser(description='xxx')\n",
    "parser.add_argument('--seed',               default=0,              type=int,     help='(default=%(default)d)')\n",
    "parser.add_argument('--device',             default='cpu',          type=str,     help='gpu id')\n",
    "parser.add_argument('--experiment',         default='mnist2',       type =str,    help='Mnist or dissertation')\n",
    "parser.add_argument('--approach',           default='lul',          type =str,    help='Method, always Lifelong Uncertainty-aware learning')\n",
    "parser.add_argument('--data_path',          default='../data/',     type=str,     help='gpu id')\n",
    "\n",
    "# Training parameters\n",
    "parser.add_argument('--output',             default='',             type=str,     help='')\n",
    "parser.add_argument('--checkpoint_dir',     default='../checkpoints_15k/',    type=str,   help='')\n",
    "parser.add_argument('--n_epochs',           default=1,              type=int,     help='')\n",
    "parser.add_argument('--batch_size',         default=64,             type=int,     help='')\n",
    "parser.add_argument('--lr',                 default=0.01,           type=float,   help='')\n",
    "parser.add_argument('--hidden_size',        default=600,           type=int,     help='')\n",
    "parser.add_argument('--parameter',          default='',             type=str,     help='')\n",
    "\n",
    "# UCB HYPER-PARAMETERS\n",
    "parser.add_argument('--MC_samples',         default='10',           type=int,     help='Number of Monte Carlo samples')\n",
    "parser.add_argument('--rho',                default='-3',           type=float,   help='Initial rho')\n",
    "parser.add_argument('--sigma1',             default='0.0',          type=float,   help='STD foor the 1st prior pdf in scaled mixture Gaussian')\n",
    "parser.add_argument('--sigma2',             default='6.0',          type=float,   help='STD foor the 2nd prior pdf in scaled mixture Gaussian')\n",
    "parser.add_argument('--pi',                 default='0.25',         type=float,   help='weighting factor for prior')\n",
    "\n",
    "parser.add_argument('--resume',             default='no',           type=str,     help='resume?')\n",
    "parser.add_argument('--sti',                default=1,              type=int,     help='starting task?')\n",
    "\n",
    "parser.add_argument(\"-f\", \"--fff\", help=\"a dummy argument to fool ipython\", default=\"1\")\n",
    "\n",
    "args=parser.parse_args()"
   ]
  },
  {
   "cell_type": "code",
   "execution_count": 3,
   "metadata": {},
   "outputs": [],
   "source": [
    "def show(img):\n",
    "    npimg = img.numpy()\n",
    "    plt.imshow(np.transpose(npimg, (1,2,0)), interpolation='nearest')"
   ]
  },
  {
   "cell_type": "code",
   "execution_count": 62,
   "metadata": {},
   "outputs": [
    {
     "name": "stdout",
     "output_type": "stream",
     "text": [
      "mnist2_lul\n",
      "Results will be saved in  ../checkpoints_15k/mnist2_lul\n"
     ]
    }
   ],
   "source": [
    "# Checkpoint\n",
    "checkpoint = utils.make_directories(args)\n",
    "args.checkpoint = checkpoint"
   ]
  },
  {
   "cell_type": "code",
   "execution_count": 5,
   "metadata": {},
   "outputs": [],
   "source": [
    "# MNIST with two tasks:\n",
    "from data_cleaning import mnist2 as dataloader\n",
    "from data_cleaning import fmnist as dataloader2\n",
    "\n",
    "# Import Lifelong Uncertainty-aware Learning approach:\n",
    "from bayesian_model.lul import Lul\n",
    "\n",
    "# Import model used:\n",
    "from bayesian_model.bayesian_network import BayesianNetwork"
   ]
  },
  {
   "cell_type": "code",
   "execution_count": 6,
   "metadata": {},
   "outputs": [
    {
     "name": "stdout",
     "output_type": "stream",
     "text": [
      "Loading data...\n",
      "Input size = [1, 28, 28] \n",
      "Task info = [(0, 5), (1, 5)]\n"
     ]
    }
   ],
   "source": [
    "# Load data:\n",
    "print(\"Loading data...\")\n",
    "data, task_classes, input_size = dataloader.get(data_path=args.data_path, seed=args.seed)\n",
    "print(\"Input size =\", input_size, \"\\nTask info =\", task_classes)\n",
    "args.num_tasks = len(task_classes)\n",
    "args.input_size = input_size\n",
    "args.task_classes = task_classes"
   ]
  },
  {
   "cell_type": "code",
   "execution_count": 7,
   "metadata": {},
   "outputs": [
    {
     "name": "stdout",
     "output_type": "stream",
     "text": [
      "Initializing network...\n"
     ]
    }
   ],
   "source": [
    "# Initialize Bayesian network\n",
    "print(\"Initializing network...\")\n",
    "model = BayesianNetwork(args).to(args.device)"
   ]
  },
  {
   "cell_type": "code",
   "execution_count": 8,
   "metadata": {},
   "outputs": [
    {
     "name": "stdout",
     "output_type": "stream",
     "text": [
      "Initialize Lifelong Uncertainty-aware Learning\n"
     ]
    }
   ],
   "source": [
    "# Initialize Lul approach\n",
    "print(\"Initialize Lifelong Uncertainty-aware Learning\")\n",
    "approach = Lul(model, args=args)"
   ]
  },
  {
   "cell_type": "code",
   "execution_count": 63,
   "metadata": {},
   "outputs": [],
   "source": [
    "# Load stored model:\n",
    "checkpoint = torch.load(os.path.join(args.checkpoint, 'model_{}.pth.tar'.format(args.sti)))\n",
    "model.load_state_dict(checkpoint['model_state_dict'])\n",
    "model = model.to(device=args.device)"
   ]
  },
  {
   "cell_type": "code",
   "execution_count": 10,
   "metadata": {},
   "outputs": [
    {
     "name": "stdout",
     "output_type": "stream",
     "text": [
      "Loading data2...\n"
     ]
    }
   ],
   "source": [
    "# Load data:\n",
    "print(\"Loading data2...\")\n",
    "data2, task_classes2, input_size2 = dataloader2.get(data_path=args.data_path, seed=args.seed)"
   ]
  },
  {
   "cell_type": "code",
   "execution_count": 11,
   "metadata": {},
   "outputs": [
    {
     "name": "stderr",
     "output_type": "stream",
     "text": [
      "Clipping input data to the valid range for imshow with RGB data ([0..1] for floats or [0..255] for integers).\n"
     ]
    },
    {
     "data": {
      "image/png": "[encoded data removed]",
      "text/plain": [
       "<Figure size 432x288 with 1 Axes>"
      ]
     },
     "metadata": {},
     "output_type": "display_data"
    }
   ],
   "source": [
    "plt.figure()\n",
    "show(make_grid(data[1]['test']['x'][11:14]))"
   ]
  },
  {
   "cell_type": "code",
   "execution_count": 13,
   "metadata": {},
   "outputs": [
    {
     "name": "stdout",
     "output_type": "stream",
     "text": [
      "tensor([[2.7863e-11, 4.1131e-17, 1.9250e-02, 9.8066e-01, 8.5312e-05],\n",
      "        [4.2113e-06, 7.2345e-05, 9.9796e-01, 1.9533e-03, 1.0080e-05],\n",
      "        [1.7122e-08, 1.9169e-15, 9.9723e-01, 1.6968e-05, 2.7488e-03]])\n"
     ]
    }
   ],
   "source": [
    "outputs = model.inference(data[1]['test']['x'][11:14], sample = True)\n",
    "print(outputs[0].detach())"
   ]
  },
  {
   "cell_type": "code",
   "execution_count": 102,
   "metadata": {},
   "outputs": [
    {
     "name": "stderr",
     "output_type": "stream",
     "text": [
      "Clipping input data to the valid range for imshow with RGB data ([0..1] for floats or [0..255] for integers).\n",
      "Clipping input data to the valid range for imshow with RGB data ([0..1] for floats or [0..255] for integers).\n"
     ]
    },
    {
     "name": "stdout",
     "output_type": "stream",
     "text": [
      "Prediction 1:  6\n",
      "Std:  1.349666625504239\n",
      "Prediction 2:  7\n",
      "Std:  0.4918333050943174\n",
      "Prediction 3:  7\n",
      "Std:  0.5673623181001713\n",
      "Prediction 4:  7\n",
      "Std:  0.0\n"
     ]
    },
    {
     "data": {
      "image/png": "[encoded data removed]",
      "text/plain": [
       "<Figure size 432x288 with 1 Axes>"
      ]
     },
     "metadata": {},
     "output_type": "display_data"
    },
    {
     "data": {
      "image/png": "[encoded data removed]",
      "text/plain": [
       "<Figure size 432x288 with 1 Axes>"
      ]
     },
     "metadata": {},
     "output_type": "display_data"
    }
   ],
   "source": [
    "# For 3 different images in the data set, predict their label and give the uncertainty.\n",
    "plt.figure()\n",
    "show(make_grid(data[0]['test']['x'][10:13]))\n",
    "plt.figure()\n",
    "#show(make_grid(data2[0]['test']['x'][0]))\n",
    "model.eval()\n",
    "predictions1 = []\n",
    "predictions2 = []\n",
    "predictions3 = []\n",
    "predictions4 = []\n",
    "# Use 100 samples:\n",
    "for s in range(100):\n",
    "    outputs = model(data[0]['test']['x'][10:13], sample = True)\n",
    "    output = outputs[0]\n",
    "    _,pred = output.max(1, keepdim=True)\n",
    "    predictions1.append(pred[0])\n",
    "    predictions2.append(pred[1])\n",
    "    predictions3.append(pred[2])\n",
    "    #outputs = model(data2[0]['test']['x'][0], sample = True)\n",
    "    #output = outputs[0]\n",
    "    #_,pred = output.max(1, keepdim=True)\n",
    "    #predictions4.append(pred[0])\n",
    "\n",
    "print(\"Prediction 1: \", int(np.mean(predictions1)+5))\n",
    "print(\"Std: \", np.std(predictions1))\n",
    "\n",
    "print(\"Prediction 2: \", int(np.mean(predictions2)+5))\n",
    "print(\"Std: \", np.std(predictions2))\n",
    "\n",
    "print(\"Prediction 3: \", int(np.mean(predictions3)+5))\n",
    "print(\"Std: \", np.std(predictions3))\n",
    "\n",
    "#print(\"Prediction 4: \", int(np.mean(predictions4)+5))\n",
    "#print(\"Std: \", np.std(predictions4))\n"
   ]
  },
  {
   "cell_type": "markdown",
   "metadata": {},
   "source": [
    "0 T-shirt/top\n",
    "1 Trouser\n",
    "2 Pullover\n",
    "3 Dress\n",
    "4 Coat\n",
    "5 Sandal\n",
    "6 Shirt\n",
    "7 Sneaker\n",
    "8 Bag\n",
    "9 Ankle boot "
   ]
  },
  {
   "cell_type": "code",
   "execution_count": 95,
   "metadata": {},
   "outputs": [],
   "source": [
    "# Per class uncertainty\n",
    "p_hat1 = np.zeros((100, 5))\n",
    "p_hat2 = np.zeros((100, 5))\n",
    "p_hat3 = np.zeros((100, 5))\n",
    "p_hat4 = np.zeros((100, 5))\n",
    "# Use 100 samples:\n",
    "i = 0\n",
    "for s in range(100):\n",
    "    p_hats = model.inference(data[1]['test']['x'][0:3], sample = True)[1]\n",
    "    p_hat1[i] = p_hats[0].detach().numpy()\n",
    "    p_hat2[i] = p_hats[1].detach().numpy()\n",
    "    p_hat3[i] = p_hats[2].detach().numpy()\n",
    "    p_hats = model.inference(data2[1]['test']['x'][0], sample = True)[1]\n",
    "    p_hat4[i] = p_hats[0].detach().numpy()\n",
    "    i += 1\n",
    "pred1 = np.mean(p_hat1, axis = 0) \n",
    "pred2 = np.mean(p_hat2, axis = 0) \n",
    "pred3 = np.mean(p_hat3, axis = 0)\n",
    "pred4 = np.mean(p_hat4, axis = 0) \n",
    "alea1 = np.mean(p_hat1*(1-p_hat1), axis=0) \n",
    "alea2 = np.mean(p_hat2*(1-p_hat2), axis=0)\n",
    "alea3 = np.mean(p_hat3*(1-p_hat3), axis=0)\n",
    "alea4 = np.mean(p_hat4*(1-p_hat4), axis=0)\n",
    "epis1 = np.mean(p_hat1**2, axis=0) - np.mean(p_hat1, axis=0)**2\n",
    "epis2 = np.mean(p_hat2**2, axis=0) - np.mean(p_hat2, axis=0)**2\n",
    "epis3 = np.mean(p_hat3**2, axis=0) - np.mean(p_hat3, axis=0)**2\n",
    "epis4 = np.mean(p_hat4**2, axis=0) - np.mean(p_hat4, axis=0)**2"
   ]
  },
  {
   "cell_type": "code",
   "execution_count": 65,
   "metadata": {},
   "outputs": [
    {
     "name": "stderr",
     "output_type": "stream",
     "text": [
      "Clipping input data to the valid range for imshow with RGB data ([0..1] for floats or [0..255] for integers).\n"
     ]
    },
    {
     "name": "stdout",
     "output_type": "stream",
     "text": [
      "Pred:  [0.20024436 0.45985379 0.09220742 0.17165297 0.07604145] Class:  1\n",
      "Aleatoric:  0.2767928176209736\n",
      "Epistemic:  0.4278946117675631\n"
     ]
    },
    {
     "data": {
      "image/png": "[encoded data removed]",
      "text/plain": [
       "<Figure size 432x288 with 1 Axes>"
      ]
     },
     "metadata": {},
     "output_type": "display_data"
    },
    {
     "name": "stderr",
     "output_type": "stream",
     "text": [
      "Clipping input data to the valid range for imshow with RGB data ([0..1] for floats or [0..255] for integers).\n"
     ]
    },
    {
     "name": "stdout",
     "output_type": "stream",
     "text": [
      "Pred:  [1.18621831e-04 8.93526286e-01 2.49894752e-02 4.06051734e-06\n",
      " 8.13615562e-02] Class:  1\n",
      "Aleatoric:  0.08977561089617032\n",
      "Epistemic:  0.10459097405700898\n"
     ]
    },
    {
     "data": {
      "image/png": "[encoded data removed]",
      "text/plain": [
       "<Figure size 432x288 with 1 Axes>"
      ]
     },
     "metadata": {},
     "output_type": "display_data"
    }
   ],
   "source": [
    "plt.figure()\n",
    "show(make_grid(data[1]['test']['x'][2]))\n",
    "print(\"Pred: \", pred3, \"Class: \", np.argmax(pred3))\n",
    "print(\"Aleatoric: \", alea3.sum())\n",
    "print(\"Epistemic: \", epis3.sum())\n",
    "plt.show()\n",
    "#plt.figure()\n",
    "show(make_grid(data2[1]['test']['x'][0]))\n",
    "print(\"Pred: \", pred4, \"Class: \", np.argmax(pred4))\n",
    "print(\"Aleatoric: \", alea4.sum())\n",
    "print(\"Epistemic: \", epis4.sum())\n",
    "plt.show()"
   ]
  },
  {
   "cell_type": "code",
   "execution_count": 21,
   "metadata": {},
   "outputs": [
    {
     "name": "stdout",
     "output_type": "stream",
     "text": [
      "(5139, 5)\n"
     ]
    }
   ],
   "source": [
    "print(model.inference(data[0]['test']['x'], sample = True)[0].detach().numpy().shape)"
   ]
  },
  {
   "cell_type": "code",
   "execution_count": 93,
   "metadata": {},
   "outputs": [],
   "source": [
    "# Calculate overall uncertainty in test set, try for 100 test_samples:\n",
    "# Split in in the two different task groups, do it for 6000 test points\n",
    "# Per class uncertainty\n",
    "p_hat1 = np.zeros((100, 5))\n",
    "# Use 100 test_samples:\n",
    "for i in range(100):\n",
    "# Use 100 MC samples:\n",
    "    for s in range(100):\n",
    "        p_hats = model.inference(data[1]['test']['x'][i], sample = True)[1]\n",
    "    pred = np.mean(p_hat, axis = 0) \n",
    "    alea += np.mean(p_hat*(1-p_hat), axis=0) \n",
    "    epis += np.mean(p_hat**2, axis=0) - np.mean(p_hat, axis=0)**2"
   ]
  },
  {
   "cell_type": "code",
   "execution_count": 94,
   "metadata": {},
   "outputs": [
    {
     "name": "stdout",
     "output_type": "stream",
     "text": [
      "tensor([[3.1723e-05, 6.7446e-06, 9.9994e-01, 1.7520e-05, 2.4816e-12],\n",
      "        [4.1660e-10, 9.9643e-01, 3.3584e-03, 8.2187e-05, 1.2822e-04],\n",
      "        [1.0000e+00, 3.8509e-15, 5.8890e-08, 1.1797e-10, 3.8680e-10],\n",
      "        ...,\n",
      "        [9.6413e-17, 8.5970e-11, 1.0000e+00, 5.6491e-10, 4.5441e-16],\n",
      "        [4.9069e-17, 9.3129e-18, 9.6480e-08, 1.0000e+00, 5.7741e-21],\n",
      "        [7.5547e-17, 1.5928e-14, 1.0922e-09, 7.6362e-09, 1.0000e+00]],\n",
      "       grad_fn=<SoftmaxBackward>)\n"
     ]
    }
   ],
   "source": [
    "print(p_hat1)"
   ]
  },
  {
   "cell_type": "code",
   "execution_count": 134,
   "metadata": {},
   "outputs": [],
   "source": []
  },
  {
   "cell_type": "code",
   "execution_count": 62,
   "metadata": {},
   "outputs": [],
   "source": []
  },
  {
   "cell_type": "code",
   "execution_count": 63,
   "metadata": {},
   "outputs": [],
   "source": []
  },
  {
   "cell_type": "code",
   "execution_count": null,
   "metadata": {},
   "outputs": [],
   "source": []
  },
  {
   "cell_type": "code",
   "execution_count": null,
   "metadata": {},
   "outputs": [],
   "source": []
  },
  {
   "cell_type": "code",
   "execution_count": null,
   "metadata": {},
   "outputs": [],
   "source": []
  },
  {
   "cell_type": "code",
   "execution_count": null,
   "metadata": {},
   "outputs": [],
   "source": []
  }
 ],
 "metadata": {
  "kernelspec": {
   "display_name": "Python 3",
   "language": "python",
   "name": "python3"
  },
  "language_info": {
   "codemirror_mode": {
    "name": "ipython",
    "version": 3
   },
   "file_extension": ".py",
   "mimetype": "text/x-python",
   "name": "python",
   "nbconvert_exporter": "python",
   "pygments_lexer": "ipython3",
   "version": "3.6.10"
  }
 },
 "nbformat": 4,
 "nbformat_minor": 4
}
