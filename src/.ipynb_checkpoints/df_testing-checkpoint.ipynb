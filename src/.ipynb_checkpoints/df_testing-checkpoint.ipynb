{
 "cells": [
  {
   "cell_type": "code",
   "execution_count": 1,
   "metadata": {},
   "outputs": [],
   "source": [
    "import os,sys\n",
    "import numpy as np\n",
    "import torch\n",
    "from torchvision import datasets,transforms\n",
    "import pandas as pd"
   ]
  },
  {
   "cell_type": "code",
   "execution_count": 25,
   "metadata": {},
   "outputs": [],
   "source": [
    "# Load dataset:\n",
    "data_path = '/Users/jonastjomsland/UCB/dissertation/src/data_cleaning/data.csv'\n",
    "full_set = pd.read_csv(data_path)\n",
    "# Split in two tasks\n",
    "df_circle = full_set[full_set['Using circle'] == 1]\n",
    "df_arrow = full_set[full_set['Using circle'] == 0]\n",
    "# Shuffle:\n",
    "df_circle = df_circle.sample(frac=1)\n",
    "df_arrow = df_arrow.sample(frac=1)\n",
    "# Split each of them into 8 subsets:\n",
    "df_circle = np.array_split(df_circle, 8)\n",
    "df_arrow = np.array_split(df_arrow, 8)\n",
    "\n",
    "data= {}\n",
    "task_outputs = []\n",
    "size = [1,29]\n",
    "actions = [['Vacuum cleaning', 'Mopping the floor', 'Carry warm food', 'Carry cold food', 'Carry drinks', 'Carry small objects (plates, toys)', 'Carry big objects (tables, chairs)', 'Cleaning (Picking up stuff)'], ['Vacuum cleaning', 'Mopping the floor', 'Carry warm food', 'Carry cold food', 'Carry drinks', 'Carry small objects (plates, toys)', 'Carry big objects (tables, chairs)', 'Starting conversation']]\n",
    "\n",
    "# Circle\n",
    "for i, action in enumerate(actions[0]):\n",
    "    data[i] = {}\n",
    "    data[i]['name'] = action\n",
    "    data[i]['n_outputs'] = 2\n",
    "    data[i]['train']= {'x': [df_circle[i].iloc[0:500,0:-8].values],'y': [df_circle[i].iloc[0:500,-8+i].values]}\n",
    "    data[i]['test']= {'x': [df_circle[i].iloc[500:,0:-8].values],'y': [df_circle[i].iloc[500:,-8+i].values]}"
   ]
  },
  {
   "cell_type": "code",
   "execution_count": 33,
   "metadata": {},
   "outputs": [
    {
     "name": "stdout",
     "output_type": "stream",
     "text": [
      "[array([1., 2., 3., 4., 2., 2., 5., 1., 3., 4., 2., 1., 2., 5., 5., 4., 2.,\n",
      "       4., 4., 5., 3., 2., 2., 1., 1., 2., 4., 1., 2., 1., 1., 2., 2., 2.,\n",
      "       5., 2., 4., 2., 2., 3., 1., 2., 1., 4., 2., 4., 5., 2., 2., 5., 4.,\n",
      "       4., 4., 3., 5., 1., 3., 2., 5., 2., 2., 4., 1., 4., 1., 3., 4., 2.,\n",
      "       2., 4., 2., 1., 1., 5., 2., 2., 2., 4., 2., 4., 4., 3., 2., 5., 1.,\n",
      "       1., 2., 5., 2., 2., 5., 3., 5., 3., 1., 1., 5., 5., 2., 3., 2., 3.,\n",
      "       5., 2., 3., 5., 2., 5., 2., 1., 4., 4., 4., 5., 4., 1., 3., 2., 2.,\n",
      "       2., 2., 4., 2., 2., 3., 2., 1., 1., 2., 2., 1., 2., 4., 1., 2., 2.,\n",
      "       4., 3., 2., 1., 3., 2., 2., 2., 1., 2., 2., 4., 2., 5., 1., 3., 2.,\n",
      "       5., 5., 2., 2., 4., 4., 4., 4., 3., 3., 3., 5., 2., 2., 4., 4., 4.,\n",
      "       2., 1., 5., 3., 2., 4., 2., 2., 5., 3., 3., 5., 1., 2., 5., 4., 2.,\n",
      "       5., 2., 2., 2., 3., 5., 1., 3., 3., 2., 3., 1., 2., 4., 3., 4., 1.,\n",
      "       1., 3., 2., 5., 5., 3., 4., 4., 2., 2., 4., 5., 4., 4., 2., 1., 1.,\n",
      "       2., 4., 1., 2., 5., 2., 3., 5., 4., 2., 5., 1., 4., 1., 2., 5., 1.,\n",
      "       4., 1., 2., 3., 4., 1., 2., 1., 4., 1., 5., 2., 4., 4., 1., 5., 2.,\n",
      "       2., 2., 5., 1., 3., 5., 1., 1., 1., 1., 4., 3., 2., 4., 4., 1., 4.,\n",
      "       2., 2., 5., 3., 1., 3., 5., 3., 2., 4., 3., 4., 2., 2., 1., 2., 2.,\n",
      "       2., 4., 1., 2., 5., 5., 4., 5., 5., 2., 1., 3., 5., 3., 4., 4., 5.,\n",
      "       4., 1., 5., 1., 2., 2., 2., 3., 1., 2., 5., 4., 4., 1., 1., 1., 1.,\n",
      "       2., 3., 4., 1., 4., 3., 5., 2., 2., 1., 3., 2., 3., 2., 5., 2., 1.,\n",
      "       2., 4., 2., 1., 2., 4., 4., 4., 4., 1., 1., 3., 5., 2., 2., 1., 1.,\n",
      "       2., 2., 5., 2., 4., 1., 5., 5., 1., 5., 1., 2., 2., 5., 5., 4., 3.,\n",
      "       1., 2., 4., 2., 1., 4., 4., 2., 2., 4., 3., 2., 3., 1., 4., 5., 1.,\n",
      "       5., 4., 2., 5., 4., 2., 2., 4., 1., 2., 1., 2., 4., 4., 2., 1., 1.,\n",
      "       2., 5., 2., 4., 2., 2., 1., 3., 2., 3., 4., 1., 1., 1., 2., 2., 2.,\n",
      "       4., 3., 4., 5., 1., 5., 2., 2., 1., 4., 1., 2., 3., 3., 1., 2., 2.,\n",
      "       4., 1., 4., 2., 2., 5., 3., 2., 4., 2., 2., 5., 4., 3., 1., 5., 2.,\n",
      "       3., 4., 1., 1., 2., 4., 2., 2., 2., 3., 2., 3., 2., 2., 5., 4., 2.,\n",
      "       1., 1., 2., 3., 4., 1., 1., 4., 2., 1., 4., 5., 1., 2., 4., 1., 5.,\n",
      "       3., 2., 2., 5., 3., 4., 2.])]\n"
     ]
    }
   ],
   "source": [
    "print(data[0]['train']['y'])"
   ]
  },
  {
   "cell_type": "code",
   "execution_count": 40,
   "metadata": {},
   "outputs": [],
   "source": [
    "# Load dataset:\n",
    "    full_set = pd.read_csv(data_path)\n",
    "    # Split in two tasks\n",
    "    df_circle = full_set[full_set['Using circle'] == 1]\n",
    "    df_arrow = full_set[full_set['Using circle'] == 0]\n",
    "    # Shuffle:\n",
    "    df_circle = df_circle.sample(frac=1)\n",
    "    df_arrow = df_arrow.sample(frac=1)\n",
    "\n",
    "    data= {}\n",
    "    task_outputs = []\n",
    "    size = [1,29]\n",
    "\n",
    "    data[0]={}\n",
    "    data[0]['name']='Circle'\n",
    "    data[0]['n_outputs'] = 16\n",
    "    data[1]={}\n",
    "    data[1]['name'] = 'Arrow'\n",
    "    data[1]['n_outputs'] = 16\n",
    "\n",
    "    data[0]['train']={'x': [],'y': []}\n",
    "    data[1]['train']={'x': [],'y': []}\n",
    "    data[0]['test']={'x': [],'y': []}\n",
    "    data[1]['test']={'x': [],'y': []}\n",
    "\n",
    "    # Circle:\n",
    "    count = 0\n",
    "    for i, row in df_circle.iterrows():\n",
    "        x = torch.tensor(row.values[0:-8])\n",
    "        y = torch.tensor(row.values[-8:])\n",
    "        if count < 4400:\n",
    "            # Training data\n",
    "            data[0]['train']['x'].append(x)\n",
    "            data[0]['train']['y'].append(y)\n",
    "        else:\n",
    "            # Test data\n",
    "            data[0]['test']['x'].append(x)\n",
    "            data[0]['test']['y'].append(y)\n",
    "        count += 1\n",
    "        \n",
    "    # Arrow:\n",
    "    count = 0\n",
    "    for i, row in df_arrow.iterrows():\n",
    "        x = torch.tensor(row.values[0:-8])\n",
    "        y = torch.tensor(row.values[-8:])\n",
    "        if count < 4400:\n",
    "            # Training data\n",
    "            data[1]['train']['x'].append(x)\n",
    "            data[1]['train']['y'].append(y)\n",
    "        else:\n",
    "            # Test data\n",
    "            data[1]['test']['x'].append(x)\n",
    "            data[1]['test']['y'].append(y)\n",
    "        count += 1\n",
    "# \"Unify\" and save\n",
    "    for n in [0,1]:\n",
    "        for s in ['train','test']:\n",
    "            data[n][s]['x'] = torch.stack(data[n][s]['x'])\n",
    "            data[n][s]['y'] = torch.stack(data[n][s]['y'])"
   ]
  },
  {
   "cell_type": "code",
   "execution_count": 38,
   "metadata": {},
   "outputs": [
    {
     "ename": "AttributeError",
     "evalue": "'list' object has no attribute 'type'",
     "output_type": "error",
     "traceback": [
      "\u001b[0;31m---------------------------------------------------------------------------\u001b[0m",
      "\u001b[0;31mAttributeError\u001b[0m                            Traceback (most recent call last)",
      "\u001b[0;32m<ipython-input-38-6f3f13532d9f>\u001b[0m in \u001b[0;36m<module>\u001b[0;34m\u001b[0m\n\u001b[0;32m----> 1\u001b[0;31m \u001b[0mprint\u001b[0m\u001b[0;34m(\u001b[0m\u001b[0mdata\u001b[0m\u001b[0;34m[\u001b[0m\u001b[0;36m0\u001b[0m\u001b[0;34m]\u001b[0m\u001b[0;34m[\u001b[0m\u001b[0;34m'train'\u001b[0m\u001b[0;34m]\u001b[0m\u001b[0;34m[\u001b[0m\u001b[0;34m'x'\u001b[0m\u001b[0;34m]\u001b[0m\u001b[0;34m.\u001b[0m\u001b[0mtype\u001b[0m\u001b[0;34m(\u001b[0m\u001b[0mtorch\u001b[0m\u001b[0;34m.\u001b[0m\u001b[0mfloat32\u001b[0m\u001b[0;34m)\u001b[0m\u001b[0;34m)\u001b[0m\u001b[0;34m\u001b[0m\u001b[0;34m\u001b[0m\u001b[0m\n\u001b[0m",
      "\u001b[0;31mAttributeError\u001b[0m: 'list' object has no attribute 'type'"
     ]
    }
   ],
   "source": [
    "print(data[0]['train']['y']data[task]['train']['x'][:,1:].type(torch.float32).to(args.device))"
   ]
  },
  {
   "cell_type": "code",
   "execution_count": null,
   "metadata": {},
   "outputs": [],
   "source": []
  }
 ],
 "metadata": {
  "kernelspec": {
   "display_name": "Python 3",
   "language": "python",
   "name": "python3"
  },
  "language_info": {
   "codemirror_mode": {
    "name": "ipython",
    "version": 3
   },
   "file_extension": ".py",
   "mimetype": "text/x-python",
   "name": "python",
   "nbconvert_exporter": "python",
   "pygments_lexer": "ipython3",
   "version": "3.6.10"
  }
 },
 "nbformat": 4,
 "nbformat_minor": 4
}
